{
 "cells": [
  {
   "cell_type": "markdown",
   "metadata": {},
   "source": [
    "# Path"
   ]
  },
  {
   "cell_type": "code",
   "execution_count": 61,
   "metadata": {
    "ExecuteTime": {
     "end_time": "2019-04-21T15:15:05.262488Z",
     "start_time": "2019-04-21T15:15:05.257904Z"
    }
   },
   "outputs": [
    {
     "name": "stdout",
     "output_type": "stream",
     "text": [
      "/Users/xijunli/anaconda3/lib/python3.6/site-packages/ipykernel_launcher.py\n",
      "/Users/xijunli/Desktop/KDDCup2019/src/sample_code_submission\n",
      "/Users/xijunli/Desktop/KDDCup2019/src/sample_code_submission\n",
      "/Users/xijunli/Desktop/KDDCup2019/src\n",
      "/Users/xijunli/Desktop/KDDCup2019/src/sample_code_submission\n"
     ]
    }
   ],
   "source": [
    "import sys\n",
    "print(sys.argv[0])\n",
    "import os\n",
    "print (os.getcwd())#获得当前工作目录\n",
    "print (os.path.abspath('.'))#获得当前工作目录\n",
    "print (os.path.abspath('..'))#获得当前工作目录的父目录\n",
    "print (os.path.abspath(os.curdir))#获得当前工作目录\n",
    "# print(os.path.abspath('..')+'/src/sample_code_submission')\n",
    "# os.chdir(os.path.abspath('..')+'/src/sample_code_submission')\n",
    "# os.path.abspath('..')+'/src/sample_code_submission'\n",
    "from pprint import pprint"
   ]
  },
  {
   "cell_type": "markdown",
   "metadata": {},
   "source": [
    "# Data Input"
   ]
  },
  {
   "cell_type": "code",
   "execution_count": 11,
   "metadata": {
    "ExecuteTime": {
     "end_time": "2019-04-21T09:01:27.703624Z",
     "start_time": "2019-04-21T09:01:19.557515Z"
    }
   },
   "outputs": [
    {
     "name": "stdout",
     "output_type": "stream",
     "text": [
      "INFO  [04-21 17:01:19] Import Model\n"
     ]
    }
   ],
   "source": [
    "# pylint: disable=wrong-import-order, wrong-import-position, import-error\n",
    "# pylint: disable=missing-docstring\n",
    "import base64\n",
    "from datetime import datetime\n",
    "import os\n",
    "from os.path import join\n",
    "import sys\n",
    "\n",
    "#  os.system(\"pip3 install cryptography\")\n",
    "\n",
    "\n",
    "def mprint(msg):\n",
    "    \"\"\"info\"\"\"\n",
    "    cur_time = datetime.now().strftime('%m-%d %H:%M:%S')\n",
    "    print(f\"INFO  [{cur_time}] {msg}\")\n",
    "\n",
    "\n",
    "mprint(\"Import Model\")\n",
    "\n",
    "import json\n",
    "import signal\n",
    "import time\n",
    "from contextlib import contextmanager\n",
    "import numpy as np\n",
    "import pandas as pd\n",
    "import math\n",
    "\n",
    "TYPE_MAP = {\n",
    "    'time': str,\n",
    "    'cat': str,\n",
    "    'multi-cat': str,\n",
    "    'num': np.float64\n",
    "}\n",
    "\n",
    "\n",
    "class TimeoutException(Exception):\n",
    "    pass\n",
    "\n",
    "\n",
    "class Timer:\n",
    "    def __init__(self):\n",
    "        self.duration = 0\n",
    "        self.total = None\n",
    "        self.remain = None\n",
    "        self.exec = None\n",
    "\n",
    "    def set(self, time_budget):\n",
    "        self.total = time_budget\n",
    "        self.remain = time_budget\n",
    "        self.exec = 0\n",
    "\n",
    "    @contextmanager\n",
    "    def time_limit(self, pname):\n",
    "        def signal_handler(signum, frame):\n",
    "            raise TimeoutException(\"Timed out!\")\n",
    "        signal.signal(signal.SIGALRM, signal_handler)\n",
    "        signal.alarm(self.remain)\n",
    "        start_time = time.time()\n",
    "        try:\n",
    "            yield\n",
    "        finally:\n",
    "            exec_time = time.time() - start_time\n",
    "            signal.alarm(0)\n",
    "            self.exec += exec_time\n",
    "            self.duration += exec_time\n",
    "            remain_time = math.ceil(self.total - self.exec)\n",
    "            self.remain = remain_time\n",
    "\n",
    "            mprint(f'{pname} success, time spent so far {self.exec} sec')\n",
    "\n",
    "\n",
    "def read_train(datapath, info):\n",
    "    train_data = {}\n",
    "    for table_name, columns in info['tables'].items():\n",
    "        mprint(f'Table name: {table_name}')\n",
    "\n",
    "        table_dtype = {key: TYPE_MAP[val] for key, val in columns.items()}\n",
    "\n",
    "        if table_name == 'main':\n",
    "            table_path = join(datapath, 'train', 'main_train.data')\n",
    "        else:\n",
    "            table_path = join(datapath, 'train', f'{table_name}.data')\n",
    "\n",
    "        date_list = [key for key, val in columns.items() if val == 'time']\n",
    "\n",
    "        train_data[table_name] = pd.read_csv(\n",
    "            table_path, sep='\\t', dtype=table_dtype, parse_dates=date_list,\n",
    "            date_parser=lambda millisecs: millisecs if np.isnan(\n",
    "                float(millisecs)) else datetime.fromtimestamp(\n",
    "                    float(millisecs)/1000))\n",
    "\n",
    "    # get train label\n",
    "    train_label = pd.read_csv(\n",
    "        join(datapath, 'train', 'main_train.solution'))['label']\n",
    "    return train_data, train_label\n",
    "\n",
    "\n",
    "def read_info(datapath):\n",
    "    mprint('Read info')\n",
    "    with open(join(datapath, 'train', 'info.json'), 'r') as info_fp:\n",
    "        info = json.load(info_fp)\n",
    "    mprint(f'Time budget for this task is {info[\"time_budget\"]} sec')\n",
    "    return info\n",
    "\n",
    "\n",
    "def read_test(datapath, info):\n",
    "    # get test data\n",
    "    main_columns = info['tables']['main']\n",
    "    table_dtype = {key: TYPE_MAP[val] for key, val in main_columns.items()}\n",
    "\n",
    "    table_path = join(datapath, 'test', 'main_test.data')\n",
    "\n",
    "    date_list = [key for key, val in main_columns.items() if val == 'time']\n",
    "\n",
    "    test_data = pd.read_csv(\n",
    "        table_path, sep='\\t', dtype=table_dtype, parse_dates=date_list,\n",
    "        date_parser=lambda millisecs: millisecs if np.isnan(\n",
    "            float(millisecs)) else datetime.fromtimestamp(\n",
    "                float(millisecs) / 1000))\n",
    "    return test_data\n",
    "\n",
    "\n",
    "def write_predict(output_dir, dataname, prediction):\n",
    "    os.makedirs(output_dir, exist_ok=True)\n",
    "    prediction.rename('label', inplace=True)\n",
    "    prediction.to_csv(\n",
    "        join(output_dir, f'{dataname}.predict'), index=False, header=True)\n"
   ]
  },
  {
   "cell_type": "code",
   "execution_count": 56,
   "metadata": {
    "ExecuteTime": {
     "end_time": "2019-04-21T14:39:11.958658Z",
     "start_time": "2019-04-21T14:39:11.548635Z"
    },
    "code_folding": []
   },
   "outputs": [
    {
     "name": "stdout",
     "output_type": "stream",
     "text": [
      "INFO  [04-21 22:39:11] Datanames: ['K', 'L']\n",
      "INFO  [04-21 22:39:11] Read data: K\n",
      "INFO  [04-21 22:39:11] Read info\n",
      "INFO  [04-21 22:39:11] Time budget for this task is 6000 sec\n",
      "INFO  [04-21 22:39:11] Table name: main\n",
      "INFO  [04-21 22:39:11] Table name: table_1\n",
      "INFO  [04-21 22:39:11] Table name: table_2\n",
      "INFO  [04-21 22:39:11] Table name: table_3\n"
     ]
    }
   ],
   "source": [
    "ROOT_DIR = os.path.abspath('../../starting_kit_0401/')\n",
    "DIRS = {\n",
    "        'input': join(ROOT_DIR, 'sample_data'),\n",
    "        'output': join(ROOT_DIR, 'sample_predictions'),\n",
    "        'program': join(ROOT_DIR, 'ingestion_program'),\n",
    "        'submission': join(ROOT_DIR, 'sample_code_submission')\n",
    "}\n",
    "\n",
    "datanames = sorted(os.listdir(DIRS['input']))\n",
    "mprint(f'Datanames: {datanames}')\n",
    "timer = Timer()\n",
    "dataname = datanames[0]\n",
    "predictions = {}\n",
    "mprint(f'Read data: {dataname}')\n",
    "datapath = join(DIRS['input'], dataname)\n",
    "info = read_info(datapath)\n",
    "timer.set(info['time_budget'])\n",
    "train_data, train_label = read_train(datapath, info)"
   ]
  },
  {
   "cell_type": "markdown",
   "metadata": {},
   "source": [
    "# AutoML Model"
   ]
  },
  {
   "cell_type": "markdown",
   "metadata": {},
   "source": [
    "## Construct Model"
   ]
  },
  {
   "cell_type": "code",
   "execution_count": 91,
   "metadata": {
    "ExecuteTime": {
     "end_time": "2019-04-21T15:48:31.988881Z",
     "start_time": "2019-04-21T15:48:31.977350Z"
    }
   },
   "outputs": [],
   "source": [
    "import os\n",
    "import time\n",
    "from collections import defaultdict, deque\n",
    "\n",
    "import numpy as np\n",
    "import pandas as pd\n",
    "\n",
    "import CONSTANT\n",
    "from util import Config, Timer, log, timeit\n",
    "\n",
    "NUM_OP = [np.std, np.mean]\n",
    "\n",
    "config = Config(info)\n",
    "tables = copy.deepcopy(train_data)"
   ]
  },
  {
   "cell_type": "markdown",
   "metadata": {},
   "source": [
    "## fit"
   ]
  },
  {
   "cell_type": "markdown",
   "metadata": {
    "heading_collapsed": true
   },
   "source": [
    "### clean_tables"
   ]
  },
  {
   "cell_type": "code",
   "execution_count": 74,
   "metadata": {
    "ExecuteTime": {
     "end_time": "2019-04-21T15:34:01.809757Z",
     "start_time": "2019-04-21T15:34:01.761349Z"
    },
    "hidden": true
   },
   "outputs": [
    {
     "name": "stdout",
     "output_type": "stream",
     "text": [
      "cleaning table main\n",
      "\n",
      "Start [clean_df]:\n",
      "----Start [fillna]:\n",
      "----End   [fillna]. Time elapsed: 0.00 sec.\n",
      "End   [clean_df]. Time elapsed: 0.00 sec.\n",
      "cleaning table table_1\n",
      "\n",
      "Start [clean_df]:\n",
      "----Start [fillna]:\n",
      "----End   [fillna]. Time elapsed: 0.02 sec.\n",
      "End   [clean_df]. Time elapsed: 0.02 sec.\n",
      "cleaning table table_2\n",
      "\n",
      "Start [clean_df]:\n",
      "----Start [fillna]:\n",
      "----End   [fillna]. Time elapsed: 0.01 sec.\n",
      "End   [clean_df]. Time elapsed: 0.01 sec.\n",
      "cleaning table table_3\n",
      "\n",
      "Start [clean_df]:\n",
      "----Start [fillna]:\n",
      "----End   [fillna]. Time elapsed: 0.00 sec.\n",
      "End   [clean_df]. Time elapsed: 0.00 sec.\n"
     ]
    }
   ],
   "source": [
    "for tname in tables:\n",
    "    log(f\"cleaning table {tname}\")\n",
    "    clean_df(tables[tname])"
   ]
  },
  {
   "cell_type": "markdown",
   "metadata": {},
   "source": [
    "### X = merge_table(Xs, self.config)"
   ]
  },
  {
   "cell_type": "code",
   "execution_count": 76,
   "metadata": {
    "ExecuteTime": {
     "end_time": "2019-04-21T15:43:25.893142Z",
     "start_time": "2019-04-21T15:43:25.888552Z"
    }
   },
   "outputs": [],
   "source": [
    "from collections import defaultdict, deque\n",
    "\n",
    "import numpy as np\n",
    "import pandas as pd\n",
    "\n",
    "import CONSTANT\n",
    "from util import Config, Timer, log, timeit\n",
    "\n",
    "# def merge_table(tables, config):\n",
    "\n",
    "graph = defaultdict(list)\n",
    "for rel in config['relations']:\n",
    "    ta = rel['table_A']\n",
    "    tb = rel['table_B']\n",
    "    graph[ta].append({\n",
    "            \"to\": tb,\n",
    "            \"key\": rel['key'],\n",
    "            \"type\": rel['type']\n",
    "    })\n",
    "    graph[tb].append({\n",
    "            \"to\": ta,\n",
    "            \"key\": rel['key'],\n",
    "            \"type\": '_'.join(rel['type'].split('_')[::-1])\n",
    "    })\n"
   ]
  },
  {
   "cell_type": "markdown",
   "metadata": {
    "ExecuteTime": {
     "end_time": "2019-04-21T15:47:41.196654Z",
     "start_time": "2019-04-21T15:47:41.194022Z"
    }
   },
   "source": [
    "#### bfs(CONSTANT.MAIN_TABLE_NAME, graph, config['tables'])"
   ]
  },
  {
   "cell_type": "code",
   "execution_count": 112,
   "metadata": {
    "ExecuteTime": {
     "end_time": "2019-04-21T16:11:36.160044Z",
     "start_time": "2019-04-21T16:05:11.349812Z"
    }
   },
   "outputs": [
    {
     "name": "stdout",
     "output_type": "stream",
     "text": [
      "defaultdict(<class 'list'>,\n",
      "            {'main': [{'key': ['c_01'], 'to': 'table_1', 'type': 'many_to_one'},\n",
      "                      {'key': ['c_02'], 'to': 'table_2', 'type': 'many_to_one'},\n",
      "                      {'key': ['c_02'],\n",
      "                       'to': 'table_3',\n",
      "                       'type': 'many_to_one'}],\n",
      "             'table_1': [{'key': ['c_01'],\n",
      "                          'to': 'main',\n",
      "                          'type': 'one_to_many'}],\n",
      "             'table_2': [{'key': ['c_02'],\n",
      "                          'to': 'main',\n",
      "                          'type': 'one_to_many'}],\n",
      "             'table_3': [{'key': ['c_02'],\n",
      "                          'to': 'main',\n",
      "                          'type': 'one_to_many'}]})\n",
      "{'start_time': 1550654179, 'time_budget': 6000, 'time_col': 't_01', 'tables': {'main': {'type': {'n_1': 'num', 'n_2': 'num', 'n_3': 'num', 't_01': 'time', 'c_02': 'cat', 'c_01': 'cat'}, 'depth': 0}, 'table_1': {'type': {'c_01': 'cat', 'c_1': 'cat', 'c_2': 'cat', 'n_1': 'num', 'n_2': 'num', 'c_3': 'cat', 'c_4': 'cat', 'c_5': 'cat', 'n_3': 'num', 'c_6': 'cat', 't_1': 'time', 'n_4': 'num', 'n_5': 'num', 'n_6': 'num', 'n_7': 'num', 'n_8': 'num', 'n_9': 'num', 'n_10': 'num', 'n_11': 'num', 'n_12': 'num', 'n_13': 'num', 'n_14': 'num', 'n_15': 'num', 'n_16': 'num', 'n_17': 'num', 'n_18': 'num', 'n_19': 'num', 'n_20': 'num', 'n_21': 'num', 'n_22': 'num', 'c_7': 'cat', 'n_23': 'num', 'n_24': 'num', 'n_25': 'num', 'n_26': 'num', 'n_27': 'num'}, 'depth': 1}, 'table_2': {'type': {'c_02': 'cat', 'c_1': 'cat', 'c_2': 'cat', 'n_1': 'num', 'n_2': 'num', 'c_3': 'cat', 'c_4': 'cat', 'c_5': 'cat', 'n_3': 'num', 'c_6': 'cat', 't_1': 'time', 'n_4': 'num', 'n_5': 'num', 'n_6': 'num', 'n_7': 'num', 'n_8': 'num', 'n_9': 'num', 'n_10': 'num', 'n_11': 'num', 'n_12': 'num', 'n_13': 'num', 'n_14': 'num'}, 'depth': 1}, 'table_3': {'type': {'c_02': 'cat', 'n_1': 'num', 'n_2': 'num', 'n_3': 'num', 'n_4': 'num', 'n_5': 'num', 'n_6': 'num', 'n_7': 'num', 'n_8': 'num', 'n_9': 'num'}, 'depth': 1}}, 'relations': [{'table_A': 'main', 'table_B': 'table_1', 'key': ['c_01'], 'type': 'many_to_one'}, {'table_A': 'main', 'table_B': 'table_2', 'key': ['c_02'], 'type': 'many_to_one'}, {'table_A': 'main', 'table_B': 'table_3', 'key': ['c_02'], 'type': 'many_to_one'}]}\n",
      "> <ipython-input-108-8d83c7630405>(3)dfs()\n",
      "-> u = tables[u_name]\n",
      "(Pdb) n\n",
      "> <ipython-input-108-8d83c7630405>(4)dfs()\n",
      "-> log(f\"enter {u_name}\")\n",
      "(Pdb) n\n",
      "enter main\n",
      "> <ipython-input-108-8d83c7630405>(5)dfs()\n",
      "-> for edge in graph[u_name]:\n",
      "(Pdb) n\n",
      "> <ipython-input-108-8d83c7630405>(6)dfs()\n",
      "-> v_name = edge['to']\n",
      "(Pdb) p edge\n",
      "{'to': 'table_1', 'key': ['c_01'], 'type': 'many_to_one'}\n",
      "(Pdb) n\n",
      "> <ipython-input-108-8d83c7630405>(7)dfs()\n",
      "-> if config['tables'][v_name]['depth'] <= config['tables'][u_name]['depth']:\n",
      "(Pdb) p v_name\n",
      "'table_1'\n",
      "(Pdb) n\n",
      "> <ipython-input-108-8d83c7630405>(10)dfs()\n",
      "-> v = dfs(v_name, config, tables, graph)\n",
      "(Pdb) n\n",
      "> <ipython-input-108-8d83c7630405>(3)dfs()\n",
      "-> u = tables[u_name]\n",
      "(Pdb) n\n",
      "> <ipython-input-108-8d83c7630405>(4)dfs()\n",
      "-> log(f\"enter {u_name}\")\n",
      "(Pdb) n\n",
      "enter table_1\n",
      "> <ipython-input-108-8d83c7630405>(5)dfs()\n",
      "-> for edge in graph[u_name]:\n",
      "(Pdb) n\n",
      "> <ipython-input-108-8d83c7630405>(6)dfs()\n",
      "-> v_name = edge['to']\n",
      "(Pdb) n\n",
      "> <ipython-input-108-8d83c7630405>(7)dfs()\n",
      "-> if config['tables'][v_name]['depth'] <= config['tables'][u_name]['depth']:\n",
      "(Pdb) p v_name\n",
      "'main'\n",
      "(Pdb) n\n",
      "> <ipython-input-108-8d83c7630405>(8)dfs()\n",
      "-> continue\n",
      "(Pdb) n\n",
      "> <ipython-input-108-8d83c7630405>(5)dfs()\n",
      "-> for edge in graph[u_name]:\n",
      "(Pdb) n\n",
      "> <ipython-input-108-8d83c7630405>(26)dfs()\n",
      "-> log(f\"leave {u_name}\")\n",
      "(Pdb) n\n",
      "leave table_1\n",
      "> <ipython-input-108-8d83c7630405>(27)dfs()\n",
      "-> return u\n",
      "(Pdb) n\n",
      "--Return--\n",
      "> <ipython-input-108-8d83c7630405>(27)dfs()->             ... x 36 columns]\n",
      "-> return u\n",
      "(Pdb) n\n",
      "> <ipython-input-108-8d83c7630405>(11)dfs()\n",
      "-> key = edge['key']\n",
      "(Pdb) p u_name\n",
      "'main'\n",
      "(Pdb) p v_name\n",
      "'table_1'\n",
      "(Pdb) n\n",
      "> <ipython-input-108-8d83c7630405>(12)dfs()\n",
      "-> type_ = edge['type']\n",
      "(Pdb) n\n",
      "> <ipython-input-108-8d83c7630405>(14)dfs()\n",
      "-> if config['time_col'] not in u and config['time_col'] in v:\n",
      "(Pdb) n\n",
      "> <ipython-input-108-8d83c7630405>(17)dfs()\n",
      "-> if config['time_col'] in u and config['time_col'] in v:\n",
      "(Pdb) n\n",
      "> <ipython-input-108-8d83c7630405>(21)dfs()\n",
      "-> log(f\"join {u_name} <--{type_}--nt {v_name}\")\n",
      "(Pdb) p v_name\n",
      "'table_1'\n",
      "(Pdb) p key\n",
      "['c_01']\n",
      "(Pdb) p type_\n",
      "'many_to_one'\n",
      "(Pdb) n\n",
      "join main <--many_to_one--nt table_1\n",
      "> <ipython-input-108-8d83c7630405>(22)dfs()\n",
      "-> u = join(u, v, v_name, key, type_)\n",
      "(Pdb) n\n",
      "TypeError: expected str, bytes or os.PathLike object, not DataFrame\n",
      "> <ipython-input-108-8d83c7630405>(22)dfs()\n",
      "-> u = join(u, v, v_name, key, type_)\n",
      "(Pdb) n\n",
      "--Return--\n",
      "> <ipython-input-108-8d83c7630405>(22)dfs()->None\n",
      "-> u = join(u, v, v_name, key, type_)\n",
      "(Pdb) n\n",
      "TypeError: expected str, bytes or os.PathLike object, not DataFrame\n",
      "> <ipython-input-112-75536b73e405>(18)<module>()\n",
      "-> dfs(CONSTANT.MAIN_TABLE_NAME, config, tables, graph)\n",
      "(Pdb) n\n",
      "--Return--\n",
      "> <ipython-input-112-75536b73e405>(18)<module>()->None\n",
      "-> dfs(CONSTANT.MAIN_TABLE_NAME, config, tables, graph)\n",
      "(Pdb) q\n"
     ]
    },
    {
     "ename": "BdbQuit",
     "evalue": "",
     "output_type": "error",
     "traceback": [
      "\u001b[0;31m---------------------------------------------------------------------------\u001b[0m",
      "\u001b[0;31mBdbQuit\u001b[0m                                   Traceback (most recent call last)",
      "\u001b[0;32m<ipython-input-112-75536b73e405>\u001b[0m in \u001b[0;36m<module>\u001b[0;34m()\u001b[0m\n\u001b[1;32m     16\u001b[0m \u001b[0;34m\u001b[0m\u001b[0m\n\u001b[1;32m     17\u001b[0m \u001b[0;32mimport\u001b[0m \u001b[0mpdb\u001b[0m\u001b[0;34m\u001b[0m\u001b[0m\n\u001b[0;32m---> 18\u001b[0;31m \u001b[0mdfs\u001b[0m\u001b[0;34m(\u001b[0m\u001b[0mCONSTANT\u001b[0m\u001b[0;34m.\u001b[0m\u001b[0mMAIN_TABLE_NAME\u001b[0m\u001b[0;34m,\u001b[0m \u001b[0mconfig\u001b[0m\u001b[0;34m,\u001b[0m \u001b[0mtables\u001b[0m\u001b[0;34m,\u001b[0m \u001b[0mgraph\u001b[0m\u001b[0;34m)\u001b[0m\u001b[0;34m\u001b[0m\u001b[0m\n\u001b[0m",
      "\u001b[0;32m~/anaconda3/lib/python3.6/bdb.py\u001b[0m in \u001b[0;36mtrace_dispatch\u001b[0;34m(self, frame, event, arg)\u001b[0m\n\u001b[1;32m     53\u001b[0m             \u001b[0;32mreturn\u001b[0m \u001b[0mself\u001b[0m\u001b[0;34m.\u001b[0m\u001b[0mdispatch_call\u001b[0m\u001b[0;34m(\u001b[0m\u001b[0mframe\u001b[0m\u001b[0;34m,\u001b[0m \u001b[0marg\u001b[0m\u001b[0;34m)\u001b[0m\u001b[0;34m\u001b[0m\u001b[0m\n\u001b[1;32m     54\u001b[0m         \u001b[0;32mif\u001b[0m \u001b[0mevent\u001b[0m \u001b[0;34m==\u001b[0m \u001b[0;34m'return'\u001b[0m\u001b[0;34m:\u001b[0m\u001b[0;34m\u001b[0m\u001b[0m\n\u001b[0;32m---> 55\u001b[0;31m             \u001b[0;32mreturn\u001b[0m \u001b[0mself\u001b[0m\u001b[0;34m.\u001b[0m\u001b[0mdispatch_return\u001b[0m\u001b[0;34m(\u001b[0m\u001b[0mframe\u001b[0m\u001b[0;34m,\u001b[0m \u001b[0marg\u001b[0m\u001b[0;34m)\u001b[0m\u001b[0;34m\u001b[0m\u001b[0m\n\u001b[0m\u001b[1;32m     56\u001b[0m         \u001b[0;32mif\u001b[0m \u001b[0mevent\u001b[0m \u001b[0;34m==\u001b[0m \u001b[0;34m'exception'\u001b[0m\u001b[0;34m:\u001b[0m\u001b[0;34m\u001b[0m\u001b[0m\n\u001b[1;32m     57\u001b[0m             \u001b[0;32mreturn\u001b[0m \u001b[0mself\u001b[0m\u001b[0;34m.\u001b[0m\u001b[0mdispatch_exception\u001b[0m\u001b[0;34m(\u001b[0m\u001b[0mframe\u001b[0m\u001b[0;34m,\u001b[0m \u001b[0marg\u001b[0m\u001b[0;34m)\u001b[0m\u001b[0;34m\u001b[0m\u001b[0m\n",
      "\u001b[0;32m~/anaconda3/lib/python3.6/bdb.py\u001b[0m in \u001b[0;36mdispatch_return\u001b[0;34m(self, frame, arg)\u001b[0m\n\u001b[1;32m     97\u001b[0m             \u001b[0;32mfinally\u001b[0m\u001b[0;34m:\u001b[0m\u001b[0;34m\u001b[0m\u001b[0m\n\u001b[1;32m     98\u001b[0m                 \u001b[0mself\u001b[0m\u001b[0;34m.\u001b[0m\u001b[0mframe_returning\u001b[0m \u001b[0;34m=\u001b[0m \u001b[0;32mNone\u001b[0m\u001b[0;34m\u001b[0m\u001b[0m\n\u001b[0;32m---> 99\u001b[0;31m             \u001b[0;32mif\u001b[0m \u001b[0mself\u001b[0m\u001b[0;34m.\u001b[0m\u001b[0mquitting\u001b[0m\u001b[0;34m:\u001b[0m \u001b[0;32mraise\u001b[0m \u001b[0mBdbQuit\u001b[0m\u001b[0;34m\u001b[0m\u001b[0m\n\u001b[0m\u001b[1;32m    100\u001b[0m             \u001b[0;31m# The user issued a 'next' or 'until' command.\u001b[0m\u001b[0;34m\u001b[0m\u001b[0;34m\u001b[0m\u001b[0m\n\u001b[1;32m    101\u001b[0m             \u001b[0;32mif\u001b[0m \u001b[0mself\u001b[0m\u001b[0;34m.\u001b[0m\u001b[0mstopframe\u001b[0m \u001b[0;32mis\u001b[0m \u001b[0mframe\u001b[0m \u001b[0;32mand\u001b[0m \u001b[0mself\u001b[0m\u001b[0;34m.\u001b[0m\u001b[0mstoplineno\u001b[0m \u001b[0;34m!=\u001b[0m \u001b[0;34m-\u001b[0m\u001b[0;36m1\u001b[0m\u001b[0;34m:\u001b[0m\u001b[0;34m\u001b[0m\u001b[0m\n",
      "\u001b[0;31mBdbQuit\u001b[0m: "
     ]
    }
   ],
   "source": [
    "tconfig = config[\"tables\"]\n",
    "root_name = CONSTANT.MAIN_TABLE_NAME\n",
    "\n",
    "tconfig[CONSTANT.MAIN_TABLE_NAME]['depth'] = 0\n",
    "queue = deque([root_name])\n",
    "while queue:\n",
    "    u_name = queue.popleft()\n",
    "    for edge in graph[u_name]:\n",
    "        v_name = edge['to']\n",
    "        if 'depth' not in tconfig[v_name]:\n",
    "            tconfig[v_name]['depth'] = tconfig[u_name]['depth'] + 1\n",
    "            queue.append(v_name)\n",
    "\n",
    "pprint(graph)\n",
    "pprint(config)\n",
    "\n",
    "import pdb\n",
    "dfs(CONSTANT.MAIN_TABLE_NAME, config, tables, graph)"
   ]
  },
  {
   "cell_type": "markdown",
   "metadata": {
    "ExecuteTime": {
     "end_time": "2019-04-21T15:57:56.970972Z",
     "start_time": "2019-04-21T15:57:56.965180Z"
    }
   },
   "source": [
    "#### dfs(CONSTANT.MAIN_TABLE_NAME, config, tables, graph)"
   ]
  },
  {
   "cell_type": "code",
   "execution_count": 108,
   "metadata": {
    "ExecuteTime": {
     "end_time": "2019-04-21T16:03:32.202333Z",
     "start_time": "2019-04-21T16:03:32.197311Z"
    }
   },
   "outputs": [],
   "source": [
    "def dfs(u_name, config, tables, graph):\n",
    "    pdb.set_trace()\n",
    "    u = tables[u_name]\n",
    "    log(f\"enter {u_name}\")\n",
    "    for edge in graph[u_name]:\n",
    "        v_name = edge['to']\n",
    "        if config['tables'][v_name]['depth'] <= config['tables'][u_name]['depth']:\n",
    "            continue\n",
    "\n",
    "        v = dfs(v_name, config, tables, graph)\n",
    "        key = edge['key']\n",
    "        type_ = edge['type']\n",
    "\n",
    "        if config['time_col'] not in u and config['time_col'] in v:\n",
    "            continue\n",
    "\n",
    "        if config['time_col'] in u and config['time_col'] in v:\n",
    "            log(f\"join {u_name} <--{type_}--t {v_name}\")\n",
    "            u = temporal_join(u, v, v_name, key, config['time_col'])\n",
    "        else:\n",
    "            log(f\"join {u_name} <--{type_}--nt {v_name}\")\n",
    "            u = join(u, v, v_name, key, type_)\n",
    "\n",
    "        del v\n",
    "\n",
    "    log(f\"leave {u_name}\")\n",
    "    return u"
   ]
  }
 ],
 "metadata": {
  "kernelspec": {
   "display_name": "Python 3",
   "language": "python",
   "name": "python3"
  },
  "language_info": {
   "codemirror_mode": {
    "name": "ipython",
    "version": 3
   },
   "file_extension": ".py",
   "mimetype": "text/x-python",
   "name": "python",
   "nbconvert_exporter": "python",
   "pygments_lexer": "ipython3",
   "version": "3.6.5"
  },
  "toc": {
   "base_numbering": 1,
   "nav_menu": {},
   "number_sections": true,
   "sideBar": true,
   "skip_h1_title": false,
   "title_cell": "Table of Contents",
   "title_sidebar": "Contents",
   "toc_cell": false,
   "toc_position": {
    "height": "calc(100% - 180px)",
    "left": "10px",
    "top": "150px",
    "width": "288px"
   },
   "toc_section_display": true,
   "toc_window_display": false
  }
 },
 "nbformat": 4,
 "nbformat_minor": 2
}
